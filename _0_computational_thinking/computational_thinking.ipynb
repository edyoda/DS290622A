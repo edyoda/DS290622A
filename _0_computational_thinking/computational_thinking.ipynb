{
 "cells": [
  {
   "cell_type": "markdown",
   "id": "ff52d76c",
   "metadata": {},
   "source": [
    "# Program to find the smallest number in a list"
   ]
  },
  {
   "cell_type": "code",
   "execution_count": 14,
   "id": "df96189c",
   "metadata": {},
   "outputs": [],
   "source": [
    "def find_smallest_number(list_of_numbers):\n",
    "    smallest = list_of_numbers[0]\n",
    "\n",
    "    for number in list_of_numbers:\n",
    "        if number < smallest:\n",
    "            smallest = number\n",
    "\n",
    "    return smallest"
   ]
  },
  {
   "cell_type": "code",
   "execution_count": 15,
   "id": "a61870f9",
   "metadata": {},
   "outputs": [
    {
     "data": {
      "text/plain": [
       "1"
      ]
     },
     "execution_count": 15,
     "metadata": {},
     "output_type": "execute_result"
    }
   ],
   "source": [
    "find_smallest_number([12,23,4,9,7,1,2,6,30])"
   ]
  },
  {
   "cell_type": "code",
   "execution_count": 16,
   "id": "9c567e4b",
   "metadata": {},
   "outputs": [
    {
     "data": {
      "text/plain": [
       "-4"
      ]
     },
     "execution_count": 16,
     "metadata": {},
     "output_type": "execute_result"
    }
   ],
   "source": [
    "find_smallest_number([12,230,-4,90,7,1,-2,60,30])"
   ]
  },
  {
   "cell_type": "code",
   "execution_count": 17,
   "id": "bb4ca5b5",
   "metadata": {},
   "outputs": [
    {
     "data": {
      "text/plain": [
       "25"
      ]
     },
     "execution_count": 17,
     "metadata": {},
     "output_type": "execute_result"
    }
   ],
   "source": [
    "find_smallest_number([34,25,66,77,10000,90])"
   ]
  },
  {
   "cell_type": "markdown",
   "id": "908139ed",
   "metadata": {},
   "source": [
    "# Program to arrange numbers in ascending order with the help of earlier program on how to find out the smallest number"
   ]
  },
  {
   "cell_type": "code",
   "execution_count": 28,
   "id": "2d4bf914",
   "metadata": {},
   "outputs": [
    {
     "name": "stdout",
     "output_type": "stream",
     "text": [
      "old_list [34, 25, 66, 77, 10000, 90]\n",
      "new_list []\n",
      "old_list [34, 66, 77, 10000, 90]\n",
      "new_list [25]\n",
      "old_list [66, 77, 10000, 90]\n",
      "new_list [25, 34]\n",
      "old_list [77, 10000, 90]\n",
      "new_list [25, 34, 66]\n",
      "old_list [10000, 90]\n",
      "new_list [25, 34, 66, 77]\n",
      "old_list [10000]\n",
      "new_list [25, 34, 66, 77, 90]\n",
      "old_list []\n",
      "new_list [25, 34, 66, 77, 90, 10000]\n"
     ]
    }
   ],
   "source": [
    "old_list = [34,25,66,77,10000,90]\n",
    "new_list = []\n",
    "while len(old_list) != 0:\n",
    "    print('old_list',old_list)\n",
    "    print('new_list',new_list)\n",
    "    smallest = find_smallest_number(old_list)\n",
    "    new_list.append(smallest)\n",
    "    old_list.remove(smallest)\n",
    "\n",
    "print('old_list',old_list)\n",
    "print('new_list',new_list)"
   ]
  },
  {
   "cell_type": "code",
   "execution_count": null,
   "id": "961cd23a",
   "metadata": {},
   "outputs": [],
   "source": [
    "Things to take from this:-\n",
    "1) How Program looks like.\n",
    "2) How Big Program, can use small program to solve a big problem.\n",
    "\n",
    "Things not to take from this:-\n",
    "1) How to write a program:- because this will be taught to you guys in the next 1 to 2 months."
   ]
  }
 ],
 "metadata": {
  "kernelspec": {
   "display_name": "Python 3 (ipykernel)",
   "language": "python",
   "name": "python3"
  },
  "language_info": {
   "codemirror_mode": {
    "name": "ipython",
    "version": 3
   },
   "file_extension": ".py",
   "mimetype": "text/x-python",
   "name": "python",
   "nbconvert_exporter": "python",
   "pygments_lexer": "ipython3",
   "version": "3.8.9"
  }
 },
 "nbformat": 4,
 "nbformat_minor": 5
}
